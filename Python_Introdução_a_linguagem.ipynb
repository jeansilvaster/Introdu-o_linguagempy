{
  "nbformat": 4,
  "nbformat_minor": 0,
  "metadata": {
    "colab": {
      "provenance": [],
      "collapsed_sections": [
        "KEWLT35lIrSw",
        "0H71sWMriGiY",
        "D6y6cZt2pE5E",
        "jrjZKnwBwQDt",
        "JFaOIhL9y0u_",
        "cHIl09bvJ2TA"
      ],
      "authorship_tag": "ABX9TyPq/zxNo9InORKIXePArJfr",
      "include_colab_link": true
    },
    "kernelspec": {
      "name": "python3",
      "display_name": "Python 3"
    },
    "language_info": {
      "name": "python"
    }
  },
  "cells": [
    {
      "cell_type": "markdown",
      "metadata": {
        "id": "view-in-github",
        "colab_type": "text"
      },
      "source": [
        "<a href=\"https://colab.research.google.com/github/jeansilvaster/Introdu-o_linguagempy/blob/main/Python_Introdu%C3%A7%C3%A3o_a_linguagem.ipynb\" target=\"_parent\"><img src=\"https://colab.research.google.com/assets/colab-badge.svg\" alt=\"Open In Colab\"/></a>"
      ]
    },
    {
      "cell_type": "markdown",
      "source": [
        "# Aula 01 – Introdução a Linguagem"
      ],
      "metadata": {
        "id": "KEWLT35lIrSw"
      }
    },
    {
      "cell_type": "markdown",
      "source": [
        "Comentários"
      ],
      "metadata": {
        "id": "Sk_K80n7UAPH"
      }
    },
    {
      "cell_type": "code",
      "execution_count": null,
      "metadata": {
        "colab": {
          "base_uri": "https://localhost:8080/"
        },
        "id": "C2vstYyVSO7G",
        "outputId": "550028a4-ec13-422b-cb81-87dbdf3d3987"
      },
      "outputs": [
        {
          "output_type": "stream",
          "name": "stdout",
          "text": [
            "Olá mundo!\n"
          ]
        }
      ],
      "source": [
        "#Esta linha imprime um texto.\n",
        "print(\"Olá mundo!\")"
      ]
    },
    {
      "cell_type": "code",
      "source": [
        "\"\"\"\n",
        "Este é um comentário\n",
        "longo do\n",
        "python\n",
        "\"\"\"\n",
        "#\n",
        "print(\"Olá mundo!\")"
      ],
      "metadata": {
        "colab": {
          "base_uri": "https://localhost:8080/"
        },
        "id": "fHBOx13YUnNu",
        "outputId": "b8a94bb4-9b88-465d-940e-49eded903179"
      },
      "execution_count": null,
      "outputs": [
        {
          "output_type": "stream",
          "name": "stdout",
          "text": [
            "Olá mundo!\n"
          ]
        }
      ]
    },
    {
      "cell_type": "code",
      "source": [],
      "metadata": {
        "id": "xpB29V-pVHqf"
      },
      "execution_count": null,
      "outputs": []
    },
    {
      "cell_type": "markdown",
      "source": [
        "Indentação"
      ],
      "metadata": {
        "id": "8lUs-shKp1Si"
      }
    },
    {
      "cell_type": "code",
      "source": [
        "x = 0\n",
        "y = 0\n",
        "if x ==0:\n",
        "  print(\"X é igual a 10.\")\n",
        "\n",
        "  if y == 0:\n",
        "    print(\"X é igual a 10.\")\n",
        "\n"
      ],
      "metadata": {
        "colab": {
          "base_uri": "https://localhost:8080/"
        },
        "id": "j6Ci5mfXp6g5",
        "outputId": "64e59cda-f568-401d-d3b8-6c1ac229a834"
      },
      "execution_count": null,
      "outputs": [
        {
          "output_type": "stream",
          "name": "stdout",
          "text": [
            "X é igual a 10.\n",
            "X,y é igual a 10.\n"
          ]
        }
      ]
    },
    {
      "cell_type": "code",
      "source": [],
      "metadata": {
        "id": "jU63xDDMsxic"
      },
      "execution_count": null,
      "outputs": []
    },
    {
      "cell_type": "markdown",
      "source": [
        "Variável"
      ],
      "metadata": {
        "id": "KKeeW1cYs78-"
      }
    },
    {
      "cell_type": "code",
      "source": [
        "idade = 32\n",
        "peso = 65.4\n",
        "nome = \"José\"\n",
        "situacao = True\n",
        "situacao = False\n"
      ],
      "metadata": {
        "id": "DXdeJ0RBs_7c"
      },
      "execution_count": null,
      "outputs": []
    },
    {
      "cell_type": "markdown",
      "source": [
        "Tipos de dados"
      ],
      "metadata": {
        "id": "Y02e-yt2uLPa"
      }
    },
    {
      "cell_type": "code",
      "source": [
        "idade = 32\n",
        "peso = 270\n",
        "nome = \"José\"\n",
        "situacao = True\n",
        "situacao = False\n",
        "\n",
        "type(idade)\n",
        "type(peso)\n",
        "#String\n",
        "type(nome)\n",
        "#Boleana\n",
        "type(situacao)"
      ],
      "metadata": {
        "colab": {
          "base_uri": "https://localhost:8080/"
        },
        "id": "hZnn08B8uFgL",
        "outputId": "6724bde4-81d9-4a17-c0f7-9cc37d88617b"
      },
      "execution_count": null,
      "outputs": [
        {
          "output_type": "execute_result",
          "data": {
            "text/plain": [
              "bool"
            ]
          },
          "metadata": {},
          "execution_count": 8
        }
      ]
    },
    {
      "cell_type": "markdown",
      "source": [
        "**Pratica 1**"
      ],
      "metadata": {
        "id": "3aEAjcZCvig0"
      }
    },
    {
      "cell_type": "code",
      "source": [
        "from traitlets.config.application import T\n",
        "animal1 = \"Leão\"\n",
        "animal2 = \"Tartaruga\"\n",
        "animal3 = \"Cachorro\"\n",
        "\n",
        "quantidade_de_animais = 3\n",
        "\n",
        "peso_animal1 = 60.8\n",
        "peso_animal2 = 32.7\n",
        "peso_animal3 = 25.4\n",
        "\n",
        "#situação de vacinação\n",
        "\n",
        "situação_animal1 = True\n",
        "situação_animal2 = False\n",
        "situação_animal3 = False\n"
      ],
      "metadata": {
        "id": "SHPTfvT06xiY"
      },
      "execution_count": null,
      "outputs": []
    },
    {
      "cell_type": "markdown",
      "source": [
        "# Aula 02 – Manipulação de dados"
      ],
      "metadata": {
        "id": "0H71sWMriGiY"
      }
    },
    {
      "cell_type": "markdown",
      "source": [
        "**Saida de dados***"
      ],
      "metadata": {
        "id": "r-pzEaZYJRw_"
      }
    },
    {
      "cell_type": "code",
      "source": [
        "print('Olá mundo!')"
      ],
      "metadata": {
        "colab": {
          "base_uri": "https://localhost:8080/"
        },
        "id": "iyqaFaD4JUhv",
        "outputId": "81da49de-e3a7-4e6d-cc0e-69096c4f36d9"
      },
      "execution_count": null,
      "outputs": [
        {
          "output_type": "stream",
          "name": "stdout",
          "text": [
            "Olá mundo!\n"
          ]
        }
      ]
    },
    {
      "cell_type": "code",
      "source": [
        "nome = \"José\"\n",
        "idade = 30\n",
        "peso = 75\n",
        "\n",
        "print(nome)\n",
        "print(idade)\n",
        "print(peso)\n"
      ],
      "metadata": {
        "colab": {
          "base_uri": "https://localhost:8080/"
        },
        "id": "KjXY9fb9Jg9g",
        "outputId": "1633e9ba-1af9-4608-8f34-208e4364b214"
      },
      "execution_count": null,
      "outputs": [
        {
          "output_type": "stream",
          "name": "stdout",
          "text": [
            "José\n",
            "30\n",
            "75\n"
          ]
        }
      ]
    },
    {
      "cell_type": "code",
      "source": [
        "print(\"Meu nome é\", nome,\"e minha idade é\",idade, \".\")"
      ],
      "metadata": {
        "colab": {
          "base_uri": "https://localhost:8080/"
        },
        "id": "_Wz5e_nDJYhi",
        "outputId": "abbacbe8-8022-44d2-cc43-55c47aab86d9"
      },
      "execution_count": null,
      "outputs": [
        {
          "output_type": "stream",
          "name": "stdout",
          "text": [
            "Meu nome é José e minha idade é 30 .\n"
          ]
        }
      ]
    },
    {
      "cell_type": "code",
      "source": [
        "print('02', '11', '2023', sep=\"/\")"
      ],
      "metadata": {
        "colab": {
          "base_uri": "https://localhost:8080/"
        },
        "id": "QSU_RELJjjNS",
        "outputId": "81bd588b-50c1-4bc8-bd0d-ed30743d3d56"
      },
      "execution_count": null,
      "outputs": [
        {
          "output_type": "stream",
          "name": "stdout",
          "text": [
            "02/11/2023\n"
          ]
        }
      ]
    },
    {
      "cell_type": "code",
      "source": [
        "print('2023', '11', '23', sep='-')"
      ],
      "metadata": {
        "colab": {
          "base_uri": "https://localhost:8080/"
        },
        "id": "v7rdMWV8jznx",
        "outputId": "fef53320-719b-4c1c-adb2-415d3a8fa1bb"
      },
      "execution_count": null,
      "outputs": [
        {
          "output_type": "stream",
          "name": "stdout",
          "text": [
            "2023-11-23\n"
          ]
        }
      ]
    },
    {
      "cell_type": "code",
      "source": [
        "print('B', 'n','n', '.', sep='a' )"
      ],
      "metadata": {
        "colab": {
          "base_uri": "https://localhost:8080/"
        },
        "id": "0FbqfR_2kJzC",
        "outputId": "b0116e35-5238-4881-bc4a-003f2482b173"
      },
      "execution_count": null,
      "outputs": [
        {
          "output_type": "stream",
          "name": "stdout",
          "text": [
            "Banana.\n"
          ]
        }
      ]
    },
    {
      "cell_type": "markdown",
      "source": [
        "**Entrada de Dados**"
      ],
      "metadata": {
        "id": "nS3XGLYQk11J"
      }
    },
    {
      "cell_type": "code",
      "source": [
        "nome = input(\"Escreva seu nome: \")#string\n",
        "idade = int(input(\"Escreva sua idade \"))#inteiro\n",
        "peso = float(input(\"Escreva se peso \"))#float\n",
        "\n",
        "print(nome)\n",
        "print(idade)\n",
        "print(peso)"
      ],
      "metadata": {
        "colab": {
          "base_uri": "https://localhost:8080/"
        },
        "id": "kXRFXQK5k58x",
        "outputId": "36ae13a3-4f3d-4a21-fca7-4fa65bb09786"
      },
      "execution_count": null,
      "outputs": [
        {
          "output_type": "stream",
          "name": "stdout",
          "text": [
            "Escreva seu nome: Jean\n",
            "Escreva sua idade 48\n",
            "Escreva se peso 78\n",
            "Jean\n",
            "48\n",
            "78.0\n"
          ]
        }
      ]
    },
    {
      "cell_type": "markdown",
      "source": [
        "**Operadores aritiméticos**"
      ],
      "metadata": {
        "id": "mCrBUmEdjpWu"
      }
    },
    {
      "cell_type": "code",
      "source": [
        "# +, -, /, //, %\n",
        "a = 4\n",
        "b = 4\n",
        "\n",
        "print(a + b)#adição\n",
        "print(5 - 2)#subtração\n",
        "print(2 * 5)#multiplicação\n",
        "print(10 / 6)#Divisão\n",
        "print(10 //6)#divisão exata\n",
        "print(10 % 3)#percentual"
      ],
      "metadata": {
        "colab": {
          "base_uri": "https://localhost:8080/"
        },
        "id": "8CI6PFU3lUF8",
        "outputId": "1723aab3-e1cf-45de-fa5e-e996060c83eb"
      },
      "execution_count": null,
      "outputs": [
        {
          "output_type": "stream",
          "name": "stdout",
          "text": [
            "8\n",
            "3\n",
            "10\n",
            "1.6666666666666667\n",
            "1\n",
            "1\n"
          ]
        }
      ]
    },
    {
      "cell_type": "markdown",
      "source": [
        "**Prática Proposta - Aula 02**"
      ],
      "metadata": {
        "id": "f9mSCzgzlS7C"
      }
    },
    {
      "cell_type": "code",
      "source": [
        "'''\n",
        "Como sugestão de prática, indicamos você a criar um novo script python seguindo as orientações a seguir:\n",
        "\n",
        "Crie três inputs que receba os três dados abaixo:\n",
        "-Nome do tipo string\n",
        "\n",
        "-Altura do tipo Float\n",
        "\n",
        "-CPF do tipo inteiro\n",
        "\n",
        "Exiba através de um único print as três informações para o usuário.\n",
        "'''"
      ],
      "metadata": {
        "id": "VsUNV6bblsCj"
      },
      "execution_count": null,
      "outputs": []
    },
    {
      "cell_type": "code",
      "source": [
        "nome = input(\"Digite seu nome: \")\n",
        "peso = float(input(\"Digite sua altura \"))\n",
        "cpf = int(input(\"Digite seu CPF \"))\n",
        "\n",
        "print(nome, peso, altura)\n"
      ],
      "metadata": {
        "colab": {
          "base_uri": "https://localhost:8080/"
        },
        "id": "MQQJlFMIlUQi",
        "outputId": "777bed64-8671-4243-e3ce-e13aa8786a3b"
      },
      "execution_count": null,
      "outputs": [
        {
          "output_type": "stream",
          "name": "stdout",
          "text": [
            "Escreva seu nome: Jean\n",
            "Escreva sua altura 65\n",
            "Escreva seu CPF 64802027168\n",
            "Jean 65.0 64802027168\n"
          ]
        }
      ]
    },
    {
      "cell_type": "markdown",
      "source": [
        "**Correção exercício**"
      ],
      "metadata": {
        "id": "0ghXi74mnkOx"
      }
    },
    {
      "cell_type": "code",
      "source": [
        "nome = input(\"Digite seu nome: \")\n",
        "peso = float(input(\"Digite sua altura \"))\n",
        "cpf = int(input(\"Digite seu CPF \"))\n",
        "\n",
        "print(\"O seu nome é: \",nome, \". A altura digitada é: \", altura, \". O CPF digitado é: \",cpf, \".\" )"
      ],
      "metadata": {
        "colab": {
          "base_uri": "https://localhost:8080/"
        },
        "id": "wryOBxM9m4n2",
        "outputId": "3052928b-4e8b-4e3b-c859-d401d122b5d7"
      },
      "execution_count": null,
      "outputs": [
        {
          "output_type": "stream",
          "name": "stdout",
          "text": [
            "Digite seu nome: Jean\n",
            "Digite sua altura 1.78\n",
            "Digite seu CPF 64802027138\n",
            "O seu nome é:  Jean . A altura digitada é:  64802027168 . O CPF digitado é:  64802027138 .\n"
          ]
        }
      ]
    },
    {
      "cell_type": "markdown",
      "source": [
        "# Aula 03 – Estruturas de condição"
      ],
      "metadata": {
        "id": "D6y6cZt2pE5E"
      }
    },
    {
      "cell_type": "markdown",
      "source": [
        "**Operadores de relação e condição**"
      ],
      "metadata": {
        "id": "piG5ro_GpRUm"
      }
    },
    {
      "cell_type": "code",
      "source": [
        "#Operadores de igualdade\n",
        "#==, !=\n",
        "\n",
        "#Operadores relacionais\n",
        "#>, <, >=, <="
      ],
      "metadata": {
        "id": "C-XJpWL4pTR-"
      },
      "execution_count": null,
      "outputs": []
    },
    {
      "cell_type": "markdown",
      "source": [
        "**O comando IF ELSE**"
      ],
      "metadata": {
        "id": "YdAhYFtRqJEH"
      }
    },
    {
      "cell_type": "code",
      "source": [
        "numero = 10\n",
        "\n",
        "if numero == 10: #true\n",
        "  print(\"Este número é igual a 10!\")\n",
        "else: #false\n",
        "  print(\"Este número não é igual a 10!\")"
      ],
      "metadata": {
        "colab": {
          "base_uri": "https://localhost:8080/"
        },
        "id": "WDykz1OsqNtv",
        "outputId": "3948ae67-465d-427c-8a6a-8952dd081012"
      },
      "execution_count": null,
      "outputs": [
        {
          "output_type": "stream",
          "name": "stdout",
          "text": [
            "Este número é igual a 10!\n"
          ]
        }
      ]
    },
    {
      "cell_type": "markdown",
      "source": [
        "**O comando ELIF**"
      ],
      "metadata": {
        "id": "q6WveZZprGMz"
      }
    },
    {
      "cell_type": "code",
      "source": [
        "numero = 15\n",
        "\n",
        "if numero == 10:\n",
        "  print(\"Este número é igual a 10!\")\n",
        "elif numero == 11:\n",
        "  print(\"Este número é igual a 11!\")\n",
        "elif numero == 12:\n",
        "  print(\"Este número é igual a 12!\")\n",
        "elif numero == 13:\n",
        "  print(\"Este número é igual a 13!\")\n",
        "else:\n",
        "  print(\"Este número não é igual nem a 11,12 ou 13 \")\n"
      ],
      "metadata": {
        "id": "4DgNZh5orKpC"
      },
      "execution_count": null,
      "outputs": []
    },
    {
      "cell_type": "markdown",
      "source": [
        "**Prática Proposta - Aula 03**"
      ],
      "metadata": {
        "id": "IJU3LAFtshk9"
      }
    },
    {
      "cell_type": "code",
      "source": [
        "'''\n",
        "Como sugestão de prática, indicamos você a criar um novo script python seguindo as orientações a seguir:\n",
        "\n",
        "Crie uma variável número e atribua o valor 15 a ela.\n",
        "Crie um comando de condição para verificar se ela é == a 15,\n",
        "Menor que 15, maior que 15.\n",
        "\n",
        "Informar através de print a informação para o usuário.\n",
        "'''"
      ],
      "metadata": {
        "colab": {
          "base_uri": "https://localhost:8080/",
          "height": 53
        },
        "id": "ayX0hDkBsnoO",
        "outputId": "1e1d0875-c140-4cbc-c340-461dc5f8a31a"
      },
      "execution_count": null,
      "outputs": [
        {
          "output_type": "execute_result",
          "data": {
            "text/plain": [
              "'\\nComo sugestão de prática, indicamos você a criar um novo script python seguindo as orientações a seguir:\\n\\nCrie uma variável número e atribua o valor 15 a ela.\\nCrie um comando de condição para verificar se ela é == a 15, \\nMenor que 15, maior que 15.\\n\\nInformar através de print a informação para o usuário.\\n'"
            ],
            "application/vnd.google.colaboratory.intrinsic+json": {
              "type": "string"
            }
          },
          "metadata": {},
          "execution_count": 26
        }
      ]
    },
    {
      "cell_type": "code",
      "source": [
        "numero = 15\n",
        "\n",
        "if numero == 14:\n",
        "  print(\"Este número é igual a 15!\")\n",
        "elif numero > 15:\n",
        "  print(\"Este número é maior que 15!\")\n",
        "elif numero < 15:\n",
        "  print(\"Este número é maior que 15!\")\n",
        "else:\n",
        "  print(\"informação para o usuário \")"
      ],
      "metadata": {
        "colab": {
          "base_uri": "https://localhost:8080/"
        },
        "id": "c_kAIOgjts5N",
        "outputId": "53a06480-4542-4f0f-eb50-f56386e41d36"
      },
      "execution_count": null,
      "outputs": [
        {
          "output_type": "stream",
          "name": "stdout",
          "text": [
            "informação para o usuário \n"
          ]
        }
      ]
    },
    {
      "cell_type": "markdown",
      "source": [
        "**Correção exercício**"
      ],
      "metadata": {
        "id": "trmoYFlxugDS"
      }
    },
    {
      "cell_type": "code",
      "source": [
        "numero = 16\n",
        "\n",
        "if numero == 15:\n",
        "  print(\"Este número é igual a 15!\")\n",
        "elif numero < 15:\n",
        "  print(\"Este número é menor que 15!\")\n",
        "elif numero > 15:\n",
        "  print(\"Este número é maior que 15!\")\n"
      ],
      "metadata": {
        "colab": {
          "base_uri": "https://localhost:8080/"
        },
        "id": "slzxke53t-gp",
        "outputId": "1dc58b0d-dd09-4246-8dc4-c79123f933f8"
      },
      "execution_count": null,
      "outputs": [
        {
          "output_type": "stream",
          "name": "stdout",
          "text": [
            "Este número é maior que 15!\n"
          ]
        }
      ]
    },
    {
      "cell_type": "markdown",
      "source": [
        "# Aula 04 – Estruturas de controle de fluxo"
      ],
      "metadata": {
        "id": "jrjZKnwBwQDt"
      }
    },
    {
      "cell_type": "markdown",
      "source": [
        "**Laço de repetição While**"
      ],
      "metadata": {
        "id": "kQexn6kJwjp2"
      }
    },
    {
      "cell_type": "code",
      "source": [
        "i = 0\n",
        "\n",
        "while(i<=10):\n",
        "  print(\"O loop está rodando... \")\n",
        "  print(i)\n",
        "  i+=1 #i = i+1"
      ],
      "metadata": {
        "colab": {
          "base_uri": "https://localhost:8080/"
        },
        "id": "_bJ7eIZswRg9",
        "outputId": "165228f2-1c72-4758-bf6d-a9492a853f4a"
      },
      "execution_count": null,
      "outputs": [
        {
          "output_type": "stream",
          "name": "stdout",
          "text": [
            "O loop está rodando... \n",
            "0\n",
            "O loop está rodando... \n",
            "1\n",
            "O loop está rodando... \n",
            "2\n",
            "O loop está rodando... \n",
            "3\n",
            "O loop está rodando... \n",
            "4\n",
            "O loop está rodando... \n",
            "5\n",
            "O loop está rodando... \n",
            "6\n",
            "O loop está rodando... \n",
            "7\n",
            "O loop está rodando... \n",
            "8\n",
            "O loop está rodando... \n",
            "9\n",
            "O loop está rodando... \n",
            "10\n"
          ]
        }
      ]
    },
    {
      "cell_type": "markdown",
      "source": [
        "**Laço de repetição for**"
      ],
      "metadata": {
        "id": "BskvEXm0x5Xh"
      }
    },
    {
      "cell_type": "code",
      "source": [
        "for i in \"Python\":\n",
        "  print(i)"
      ],
      "metadata": {
        "colab": {
          "base_uri": "https://localhost:8080/"
        },
        "id": "TK6On6B7x61R",
        "outputId": "e7550e39-e975-455e-f953-8a82cb478c31"
      },
      "execution_count": null,
      "outputs": [
        {
          "output_type": "stream",
          "name": "stdout",
          "text": [
            "P\n",
            "y\n",
            "t\n",
            "h\n",
            "o\n",
            "n\n"
          ]
        }
      ]
    },
    {
      "cell_type": "code",
      "source": [
        "num = [1,5,6,7]"
      ],
      "metadata": {
        "id": "ogXMjoJvyP9R"
      },
      "execution_count": null,
      "outputs": []
    },
    {
      "cell_type": "code",
      "source": [
        "for j in num:\n",
        "  print(j)"
      ],
      "metadata": {
        "colab": {
          "base_uri": "https://localhost:8080/"
        },
        "id": "mIkSCbgtygyz",
        "outputId": "2810dcfa-f97e-4041-a0b7-6eb834b53703"
      },
      "execution_count": null,
      "outputs": [
        {
          "output_type": "stream",
          "name": "stdout",
          "text": [
            "1\n",
            "5\n",
            "6\n",
            "7\n"
          ]
        }
      ]
    },
    {
      "cell_type": "markdown",
      "source": [
        "**Laço for range**"
      ],
      "metadata": {
        "id": "np8PcC3hy0Sj"
      }
    },
    {
      "cell_type": "code",
      "source": [
        "for i in range(10):# cria laço aleatório ou indicado por mim\n",
        "  print(i)"
      ],
      "metadata": {
        "colab": {
          "base_uri": "https://localhost:8080/"
        },
        "id": "n-2LXdKeyjOj",
        "outputId": "643e2cd2-6380-4207-bd1d-db046b3eeeec"
      },
      "execution_count": null,
      "outputs": [
        {
          "output_type": "stream",
          "name": "stdout",
          "text": [
            "0\n",
            "1\n",
            "2\n",
            "3\n",
            "4\n",
            "5\n",
            "6\n",
            "7\n",
            "8\n",
            "9\n"
          ]
        }
      ]
    },
    {
      "cell_type": "code",
      "source": [
        "for j in range(9, -1, -1):\n",
        "  print(j)"
      ],
      "metadata": {
        "id": "h3q5KiYYzGlk"
      },
      "execution_count": null,
      "outputs": []
    },
    {
      "cell_type": "markdown",
      "source": [
        "**Prática Proposta - Aula 04**"
      ],
      "metadata": {
        "id": "nXCPY45d0dSH"
      }
    },
    {
      "cell_type": "code",
      "source": [
        "'''\n",
        "Como sugestão de prática, indicamos você a criar um novo script python seguindo as orientações a seguir:\n",
        "\n",
        "Crie um laço com for in range que imprima os múltiplos de 3 no intervalo entre 0 e 15.\n",
        "'''"
      ],
      "metadata": {
        "colab": {
          "base_uri": "https://localhost:8080/",
          "height": 35
        },
        "id": "BqpamJlb0hrW",
        "outputId": "186203d6-fd78-4970-af95-fd459ef961cf"
      },
      "execution_count": null,
      "outputs": [
        {
          "output_type": "execute_result",
          "data": {
            "text/plain": [
              "'\\nComo sugestão de prática, indicamos você a criar um novo script python seguindo as orientações a seguir:\\n\\nCrie um laço com for in range que imprima os múltiplos de 3 no intervalo entre 0 e 15.\\n'"
            ],
            "application/vnd.google.colaboratory.intrinsic+json": {
              "type": "string"
            }
          },
          "metadata": {},
          "execution_count": 54
        }
      ]
    },
    {
      "cell_type": "code",
      "source": [
        "for j in range(0, 16, 3):\n",
        "  print(j)"
      ],
      "metadata": {
        "colab": {
          "base_uri": "https://localhost:8080/"
        },
        "id": "79VxZaZM0mXH",
        "outputId": "7d894991-83f6-4c81-8418-794a16f3f7e9"
      },
      "execution_count": null,
      "outputs": [
        {
          "output_type": "stream",
          "name": "stdout",
          "text": [
            "0\n",
            "3\n",
            "6\n",
            "9\n",
            "12\n",
            "15\n"
          ]
        }
      ]
    },
    {
      "cell_type": "markdown",
      "source": [
        "Corigido ok!"
      ],
      "metadata": {
        "id": "CxUQjcHn2a-Z"
      }
    },
    {
      "cell_type": "markdown",
      "source": [
        "**Instrução break e continue**"
      ],
      "metadata": {
        "id": "zrnNB9mK20IF"
      }
    },
    {
      "cell_type": "code",
      "source": [
        "#Break\n",
        "for i in range(10):\n",
        "  print(i)\n",
        "  if (i == 5):\n",
        "    break"
      ],
      "metadata": {
        "colab": {
          "base_uri": "https://localhost:8080/"
        },
        "id": "VOToknQP2enU",
        "outputId": "d014b1cf-f2b4-470e-8b63-c68bdf3ceb8e"
      },
      "execution_count": null,
      "outputs": [
        {
          "output_type": "stream",
          "name": "stdout",
          "text": [
            "0\n",
            "1\n",
            "2\n",
            "3\n",
            "4\n",
            "5\n"
          ]
        }
      ]
    },
    {
      "cell_type": "code",
      "source": [
        "i = 0\n",
        "while (i<10):\n",
        "  i+=1\n",
        "  if (i%2==0):\n",
        "    continue\n",
        "  print(i)"
      ],
      "metadata": {
        "colab": {
          "base_uri": "https://localhost:8080/"
        },
        "id": "B1janjsf8Drs",
        "outputId": "5026809c-b54c-419e-c184-7d580beda3b1"
      },
      "execution_count": null,
      "outputs": [
        {
          "output_type": "stream",
          "name": "stdout",
          "text": [
            "1\n",
            "3\n",
            "5\n",
            "7\n",
            "9\n"
          ]
        }
      ]
    },
    {
      "cell_type": "markdown",
      "source": [
        "# Aula 05 – Strings"
      ],
      "metadata": {
        "id": "JFaOIhL9y0u_"
      }
    },
    {
      "cell_type": "markdown",
      "source": [
        "Introdução a Strings"
      ],
      "metadata": {
        "id": "j6l8yppJzC3P"
      }
    },
    {
      "cell_type": "code",
      "source": [
        "nome = \"José de Sousa Magalhães\"\n",
        "nome2 ='José de Sousa Magalhães'\n",
        "nome3 =  '''\n",
        "está é uma string longa\n",
        "contendo informaçãoes sobre\n",
        "python'''\n",
        "\n",
        "nome4 = \"\"\"\n",
        "Está é outra string longa\n",
        "contendo informações sobre\n",
        "python\"\"\"\n",
        "\n",
        "print(nome)\n",
        "print(nome2)\n",
        "print(nome3)\n",
        "print(nome4)"
      ],
      "metadata": {
        "colab": {
          "base_uri": "https://localhost:8080/"
        },
        "id": "7w6znqAAyxvv",
        "outputId": "36e70985-46ff-4242-c055-21e92625a35d"
      },
      "execution_count": null,
      "outputs": [
        {
          "output_type": "stream",
          "name": "stdout",
          "text": [
            "José de Sousa Magalhães\n",
            "José de Sousa Magalhães\n",
            "\n",
            "está é uma string longa\n",
            "contendo informaçãoes sobre \n",
            "python\n",
            "\n",
            "Está é outra string longa\n",
            "contendo informações sobre \n",
            "python\n"
          ]
        }
      ]
    },
    {
      "cell_type": "markdown",
      "source": [
        "**Propriedades das Strings**"
      ],
      "metadata": {
        "id": "NgYpO2u52lFi"
      }
    },
    {
      "cell_type": "code",
      "source": [
        "l = 'lista de letras'\n",
        "data = '15/09/1991'\n",
        "\n",
        "#tamnho da string\n",
        "tamanho = len(l)\n",
        "print(tamanho)\n",
        "\n",
        "#split da string\n",
        "lista = l.split(\" \")\n",
        "print(lista)\n",
        "lista2 = data.split(\"/\")\n",
        "print(lista2)\n",
        "\n",
        "#substituição\n",
        "print(l.replace(\"de\",\"\"))"
      ],
      "metadata": {
        "colab": {
          "base_uri": "https://localhost:8080/"
        },
        "id": "VO3bi8v3zkNq",
        "outputId": "954f26c2-585a-40c1-ab2e-8761bc7b9dc5"
      },
      "execution_count": null,
      "outputs": [
        {
          "output_type": "stream",
          "name": "stdout",
          "text": [
            "15\n",
            "['lista', 'de', 'letras']\n",
            "['15', '09', '1991']\n",
            "lista  letras\n"
          ]
        }
      ]
    },
    {
      "cell_type": "markdown",
      "source": [
        "**Fatiando Strings**"
      ],
      "metadata": {
        "id": "BBTL0cnp40P8"
      }
    },
    {
      "cell_type": "code",
      "source": [
        "#       012345\n",
        "# -6-5-4-3-2-1\n",
        "nome = 'python'\n",
        "nova_string = nome[-1]\n",
        "print(nova_string)\n"
      ],
      "metadata": {
        "id": "6pMUjXCs2-RE"
      },
      "execution_count": null,
      "outputs": []
    },
    {
      "cell_type": "markdown",
      "source": [
        "**Comparando Strings**"
      ],
      "metadata": {
        "id": "w-OuvsgXB0Q4"
      }
    },
    {
      "cell_type": "code",
      "source": [
        "print(\"a\"==\"b\")\n",
        "print(\"b\" != \"a\")\n",
        "print(\"a\" > \"X\")\n",
        "print(\"a\" > \"1\")"
      ],
      "metadata": {
        "id": "W7RIqx6d5Rdf",
        "colab": {
          "base_uri": "https://localhost:8080/"
        },
        "outputId": "4c7b06c4-76aa-488e-a562-4c1def5fc90e"
      },
      "execution_count": null,
      "outputs": [
        {
          "output_type": "stream",
          "name": "stdout",
          "text": [
            "False\n",
            "True\n",
            "True\n",
            "True\n"
          ]
        }
      ]
    },
    {
      "cell_type": "code",
      "source": [
        " for i in range(122):\n",
        "  print(str(i)+ \"-\"+chr(i))"
      ],
      "metadata": {
        "colab": {
          "base_uri": "https://localhost:8080/"
        },
        "id": "OM1YDtJlCEsg",
        "outputId": "59acfe48-cd1c-4e79-bc32-d9ac117f9bbc"
      },
      "execution_count": null,
      "outputs": [
        {
          "output_type": "stream",
          "name": "stdout",
          "text": [
            "0-\u0000\n",
            "1-\u0001\n",
            "2-\u0002\n",
            "3-\u0003\n",
            "4-\u0004\n",
            "5-\u0005\n",
            "6-\u0006\n",
            "7-\u0007\n",
            "8-\b\n",
            "9-\t\n",
            "10-\n",
            "\n",
            "11-\u000b\n",
            "12-\f\n",
            "13-\r\n",
            "14-\u000e\n",
            "15-\u000f\n",
            "16-\u0010\n",
            "17-\u0011\n",
            "18-\u0012\n",
            "19-\u0013\n",
            "20-\u0014\n",
            "21-\u0015\n",
            "22-\u0016\n",
            "23-\u0017\n",
            "24-\u0018\n",
            "25-\u0019\n",
            "26-\u001a\n",
            "27-\u001b\n",
            "28-\u001c\n",
            "29-\u001d\n",
            "30-\u001e\n",
            "31-\u001f\n",
            "32- \n",
            "33-!\n",
            "34-\"\n",
            "35-#\n",
            "36-$\n",
            "37-%\n",
            "38-&\n",
            "39-'\n",
            "40-(\n",
            "41-)\n",
            "42-*\n",
            "43-+\n",
            "44-,\n",
            "45--\n",
            "46-.\n",
            "47-/\n",
            "48-0\n",
            "49-1\n",
            "50-2\n",
            "51-3\n",
            "52-4\n",
            "53-5\n",
            "54-6\n",
            "55-7\n",
            "56-8\n",
            "57-9\n",
            "58-:\n",
            "59-;\n",
            "60-<\n",
            "61-=\n",
            "62->\n",
            "63-?\n",
            "64-@\n",
            "65-A\n",
            "66-B\n",
            "67-C\n",
            "68-D\n",
            "69-E\n",
            "70-F\n",
            "71-G\n",
            "72-H\n",
            "73-I\n",
            "74-J\n",
            "75-K\n",
            "76-L\n",
            "77-M\n",
            "78-N\n",
            "79-O\n",
            "80-P\n",
            "81-Q\n",
            "82-R\n",
            "83-S\n",
            "84-T\n",
            "85-U\n",
            "86-V\n",
            "87-W\n",
            "88-X\n",
            "89-Y\n",
            "90-Z\n",
            "91-[\n",
            "92-\\\n",
            "93-]\n",
            "94-^\n",
            "95-_\n",
            "96-`\n",
            "97-a\n",
            "98-b\n",
            "99-c\n",
            "100-d\n",
            "101-e\n",
            "102-f\n",
            "103-g\n",
            "104-h\n",
            "105-i\n",
            "106-j\n",
            "107-k\n",
            "108-l\n",
            "109-m\n",
            "110-n\n",
            "111-o\n",
            "112-p\n",
            "113-q\n",
            "114-r\n",
            "115-s\n",
            "116-t\n",
            "117-u\n",
            "118-v\n",
            "119-w\n",
            "120-x\n",
            "121-y\n"
          ]
        }
      ]
    },
    {
      "cell_type": "markdown",
      "source": [
        "**Percorrendo Strings**"
      ],
      "metadata": {
        "id": "0XAQCkylD00A"
      }
    },
    {
      "cell_type": "code",
      "source": [
        "nome = 'python'\n",
        "#for\n",
        "for i in nome:\n",
        "  print(i)\n",
        "\n",
        "#while\n",
        "i = 0\n",
        "while i < len(nome):\n",
        "  print(nome[i])\n",
        "  i+=1\n",
        "  print(\"------\")\n",
        "\n",
        "#for/enumerate\n",
        "for k,v in enumerate(nome):\n",
        "  print(k,v)\n"
      ],
      "metadata": {
        "colab": {
          "base_uri": "https://localhost:8080/"
        },
        "id": "7FdmV9NKC-Xy",
        "outputId": "e260a57e-cac6-49f4-fa74-bffcd62a5a23"
      },
      "execution_count": null,
      "outputs": [
        {
          "output_type": "stream",
          "name": "stdout",
          "text": [
            "p\n",
            "y\n",
            "t\n",
            "h\n",
            "o\n",
            "n\n",
            "p\n",
            "------\n",
            "y\n",
            "------\n",
            "t\n",
            "------\n",
            "h\n",
            "------\n",
            "o\n",
            "------\n",
            "n\n",
            "------\n",
            "0 p\n",
            "1 y\n",
            "2 t\n",
            "3 h\n",
            "4 o\n",
            "5 n\n"
          ]
        }
      ]
    },
    {
      "cell_type": "markdown",
      "source": [
        "**Exercício prático** corrigido sem erros"
      ],
      "metadata": {
        "id": "nOV9RixKGrJP"
      }
    },
    {
      "cell_type": "code",
      "source": [
        "'''\n",
        "Como sugestão de prática, indicamos você a criar um novo script python seguindo as orientações a seguir:\n",
        "\n",
        "Crie uma string contendo o alfabeto com letras maiúsculas separado por espaços.\n",
        "Percorra e imprima essa string com enumerate.\n",
        "Substitua os espaços por traço. “-” e imprima para o usuário.\n",
        "'''"
      ],
      "metadata": {
        "colab": {
          "base_uri": "https://localhost:8080/",
          "height": 53
        },
        "id": "j07aCy1IHued",
        "outputId": "8a49f3f6-e61a-4037-bb98-2b77dcba5a8e"
      },
      "execution_count": null,
      "outputs": [
        {
          "output_type": "execute_result",
          "data": {
            "text/plain": [
              "'\\nComo sugestão de prática, indicamos você a criar um novo script python seguindo as orientações a seguir:\\n\\nCrie uma string contendo o alfabeto com letras maiúsculas separado por espaços.\\nPercorra e imprima essa string com enumerate.\\nSubstitua os espaços por traço. “-” e imprima para o usuário.\\n'"
            ],
            "application/vnd.google.colaboratory.intrinsic+json": {
              "type": "string"
            }
          },
          "metadata": {},
          "execution_count": 18
        }
      ]
    },
    {
      "cell_type": "code",
      "source": [
        "alfabeto_maiusculo = \"A B C D E F G H I J K L M N O P Q R S T U V W X Y Z\"\n",
        "print(alfabeto_maiusculo)\n"
      ],
      "metadata": {
        "colab": {
          "base_uri": "https://localhost:8080/"
        },
        "id": "pMQuVG7jER9i",
        "outputId": "b078087a-1130-49fe-abb5-9b6d70220d96"
      },
      "execution_count": null,
      "outputs": [
        {
          "output_type": "stream",
          "name": "stdout",
          "text": [
            "A B C D E F G H I J K L M N O P Q R S T U V W X Y Z\n"
          ]
        }
      ]
    },
    {
      "cell_type": "code",
      "source": [
        "for A,Z in enumerate(alfabeto_maiusculo):\n",
        "  print(A,Z)"
      ],
      "metadata": {
        "colab": {
          "base_uri": "https://localhost:8080/"
        },
        "id": "TWJxwdCFHqZ2",
        "outputId": "8eda2abd-b8da-4677-d1d6-df2b0d290beb"
      },
      "execution_count": null,
      "outputs": [
        {
          "output_type": "stream",
          "name": "stdout",
          "text": [
            "0 A\n",
            "1  \n",
            "2 B\n",
            "3  \n",
            "4 C\n",
            "5  \n",
            "6 D\n",
            "7  \n",
            "8 E\n",
            "9  \n",
            "10 F\n",
            "11  \n",
            "12 G\n",
            "13  \n",
            "14 H\n",
            "15  \n",
            "16 I\n",
            "17  \n",
            "18 J\n",
            "19  \n",
            "20 K\n",
            "21  \n",
            "22 L\n",
            "23  \n",
            "24 M\n",
            "25  \n",
            "26 N\n",
            "27  \n",
            "28 O\n",
            "29  \n",
            "30 P\n",
            "31  \n",
            "32 Q\n",
            "33  \n",
            "34 R\n",
            "35  \n",
            "36 S\n",
            "37  \n",
            "38 T\n",
            "39  \n",
            "40 U\n",
            "41  \n",
            "42 V\n",
            "43  \n",
            "44 W\n",
            "45  \n",
            "46 X\n",
            "47  \n",
            "48 Y\n",
            "49  \n",
            "50 Z\n"
          ]
        }
      ]
    },
    {
      "cell_type": "code",
      "source": [
        "print(alfabeto_maiusculo.replace(\" \",\"-\"))"
      ],
      "metadata": {
        "colab": {
          "base_uri": "https://localhost:8080/"
        },
        "id": "i5KKCt2RIKhY",
        "outputId": "868481be-6824-4f8d-a5d0-eca95a57ddce"
      },
      "execution_count": null,
      "outputs": [
        {
          "output_type": "stream",
          "name": "stdout",
          "text": [
            "A-B-C-D-E-F-G-H-I-J-K-L-M-N-O-P-Q-R-S-T-U-V-W-X-Y-Z\n"
          ]
        }
      ]
    },
    {
      "cell_type": "markdown",
      "source": [
        "# **Aula 06** – Estrutura de Listas\n",
        "\n"
      ],
      "metadata": {
        "id": "cHIl09bvJ2TA"
      }
    },
    {
      "cell_type": "markdown",
      "source": [
        "**Introdução a listas**"
      ],
      "metadata": {
        "id": "7nLeDbh4KAPx"
      }
    },
    {
      "cell_type": "code",
      "source": [
        "# 0 1 2 3 4 5...n\n",
        "nome = \"python\"\n",
        "lista = [2,3,4,5]\n",
        "lista2 = [1.5, 2.3 ,6.5]\n",
        "lista3 = [1 ,1.5, \"número\"]\n",
        "lista4 = []\n",
        "print(lista2[1])"
      ],
      "metadata": {
        "colab": {
          "base_uri": "https://localhost:8080/"
        },
        "id": "9TkbyPPlJ71K",
        "outputId": "5b4cad1a-5b20-4a48-9e70-e983963b4e1c"
      },
      "execution_count": null,
      "outputs": [
        {
          "output_type": "stream",
          "name": "stdout",
          "text": [
            "2.3\n"
          ]
        }
      ]
    },
    {
      "cell_type": "markdown",
      "source": [
        "**Percorrendo listas**"
      ],
      "metadata": {
        "id": "Jg--PyxmL5Dy"
      }
    },
    {
      "cell_type": "code",
      "source": [
        "lista = [100, 200, 300 ,400, 500, 600, 700, 800]\n",
        "for i in range(len(lista)):\n",
        "  print(lista[i])\n",
        "\n",
        "print(lista)"
      ],
      "metadata": {
        "colab": {
          "base_uri": "https://localhost:8080/"
        },
        "id": "PnWd9rBgLgyI",
        "outputId": "50078f80-0228-49b6-fdb8-52dd17aba68b"
      },
      "execution_count": null,
      "outputs": [
        {
          "output_type": "stream",
          "name": "stdout",
          "text": [
            "100\n",
            "200\n",
            "300\n",
            "400\n",
            "500\n",
            "600\n",
            "700\n",
            "800\n",
            "[100, 200, 300, 400, 500, 600, 700, 800]\n"
          ]
        }
      ]
    },
    {
      "cell_type": "markdown",
      "source": [
        "**Fatiando listas**"
      ],
      "metadata": {
        "id": "xSaKatHyM5t4"
      }
    },
    {
      "cell_type": "code",
      "source": [
        "#        0 1 2\n",
        "lista = [2, 3 ,4]\n",
        "#        -3 -2 -1\n",
        "\n",
        "nova_lista = lista[0:2:2]\n",
        "print(nova_lista)\n",
        "\n",
        "lista2 = ['p', 'y', 't', 'h', 'o', 'n']\n",
        "nova_lista2 = lista2[::-1]\n",
        "print(nova_lista2)"
      ],
      "metadata": {
        "colab": {
          "base_uri": "https://localhost:8080/"
        },
        "id": "WQ_aCaFdMsOn",
        "outputId": "c19fb396-4d90-4476-ff9e-05087df6c584"
      },
      "execution_count": null,
      "outputs": [
        {
          "output_type": "stream",
          "name": "stdout",
          "text": [
            "[2]\n",
            "['n', 'o', 'h', 't', 'y', 'p']\n"
          ]
        }
      ]
    },
    {
      "cell_type": "markdown",
      "source": [
        "**Prática Proposta - Aula 06**"
      ],
      "metadata": {
        "id": "Iav598o1PLgY"
      }
    },
    {
      "cell_type": "code",
      "source": [
        "'''\n",
        "Como sugestão de prática, indicamos você a criar um novo script python seguindo as orientações a seguir:\n",
        "\n",
        "Crie uma lista abaixo com a seguinte palavra:\n",
        "“PYTHON”\n",
        "\n",
        "A lista deve conter as letras separadas e em maiúsculas.\n",
        "Crie uma nova lista somente com as três últimas letras da palavra “PYTHON”.\n",
        "'''"
      ],
      "metadata": {
        "colab": {
          "base_uri": "https://localhost:8080/",
          "height": 53
        },
        "id": "rWD0jB7s55-Q",
        "outputId": "35c5c3f0-1f08-4f31-a9e2-27099f8f9b68"
      },
      "execution_count": 30,
      "outputs": [
        {
          "output_type": "execute_result",
          "data": {
            "text/plain": [
              "'\\nComo sugestão de prática, indicamos você a criar um novo script python seguindo as orientações a seguir:\\n\\nCrie uma lista abaixo com a seguinte palavra:\\n“PYTHON”\\n\\nA lista deve conter as letras separadas e em maiúsculas.\\nCrie uma nova lista somente com as três últimas letras da palavra “PYTHON”.\\n'"
            ],
            "application/vnd.google.colaboratory.intrinsic+json": {
              "type": "string"
            }
          },
          "metadata": {},
          "execution_count": 30
        }
      ]
    },
    {
      "cell_type": "code",
      "source": [
        "lista = ['P', 'Y','T','H','O','N']\n",
        "lista_nova = lista[3:6]\n",
        "print(lista_nova)\n",
        "\n"
      ],
      "metadata": {
        "id": "xNdAQFOeNmU5",
        "colab": {
          "base_uri": "https://localhost:8080/"
        },
        "outputId": "80ba298e-abf4-4561-f6cd-270ff0075556"
      },
      "execution_count": 32,
      "outputs": [
        {
          "output_type": "stream",
          "name": "stdout",
          "text": [
            "['H', 'O', 'N']\n"
          ]
        }
      ]
    },
    {
      "cell_type": "markdown",
      "source": [
        "**Correção exercício**"
      ],
      "metadata": {
        "id": "Gxwlq02N6RwQ"
      }
    },
    {
      "cell_type": "markdown",
      "source": [
        "**Incluir, alterar, excluir elemento de listas**"
      ],
      "metadata": {
        "id": "IHkLx1jT8Z3z"
      }
    },
    {
      "cell_type": "code",
      "source": [
        "animais = ['Gato', 'Cachorro', 'Elefante']\n",
        "print(animais)\n",
        "animais.append('Galinha')\n",
        "print(animais)\n",
        "animais.insert(0, 'Papagaio')\n",
        "print(animais)\n",
        "animais.pop(0)\n",
        "print(animais)\n",
        "animais.remove('Gato')\n"
      ],
      "metadata": {
        "colab": {
          "base_uri": "https://localhost:8080/"
        },
        "id": "FiVf13re8bkD",
        "outputId": "bc4ef524-01d3-4b56-a04e-fd679972ca34"
      },
      "execution_count": 44,
      "outputs": [
        {
          "output_type": "stream",
          "name": "stdout",
          "text": [
            "['Gato', 'Cachorro', 'Elefante']\n",
            "['Gato', 'Cachorro', 'Elefante', 'Galinha']\n",
            "['Papagaio', 'Gato', 'Cachorro', 'Elefante', 'Galinha']\n",
            "['Gato', 'Cachorro', 'Elefante', 'Galinha']\n"
          ]
        }
      ]
    },
    {
      "cell_type": "markdown",
      "source": [
        "**Ordenar listas**"
      ],
      "metadata": {
        "id": "fjSykcO4_80X"
      }
    },
    {
      "cell_type": "code",
      "source": [
        "lista = ['a','x', 's', 'w', 'd', 'a', 'n', 'a']\n",
        "#lista.reverse()\n",
        "lista.sort()\n",
        "\n",
        "print(lista)\n",
        "\n",
        "for i in range(len(lista)):\n",
        "  print(lista[i])"
      ],
      "metadata": {
        "colab": {
          "base_uri": "https://localhost:8080/"
        },
        "id": "sKcCbp96-qPE",
        "outputId": "445e6500-37da-4861-b1ee-ebfd700712fc"
      },
      "execution_count": 49,
      "outputs": [
        {
          "output_type": "stream",
          "name": "stdout",
          "text": [
            "['a', 'a', 'a', 'd', 'n', 's', 'w', 'x']\n",
            "a\n",
            "a\n",
            "a\n",
            "d\n",
            "n\n",
            "s\n",
            "w\n",
            "x\n"
          ]
        }
      ]
    },
    {
      "cell_type": "code",
      "source": [
        "l = lista.count('a')\n",
        "print(l)"
      ],
      "metadata": {
        "colab": {
          "base_uri": "https://localhost:8080/"
        },
        "id": "BKHyh4CDElG8",
        "outputId": "631d2d6a-383e-451a-9c49-c7573285e51b"
      },
      "execution_count": 51,
      "outputs": [
        {
          "output_type": "stream",
          "name": "stdout",
          "text": [
            "3\n"
          ]
        }
      ]
    },
    {
      "cell_type": "markdown",
      "source": [
        "**Prática Proposta - Aula 06**"
      ],
      "metadata": {
        "id": "grP4ET0W8zOf"
      }
    },
    {
      "cell_type": "code",
      "source": [
        "'''\n",
        "Como sugestão de prática, indicamos você\n",
        "a criar um novo script python\n",
        "seguindo as orientações a seguir:\n",
        "\n",
        "1-Crie uma lista de móveis de uma casa;\n",
        "2-Adicione um elemento no final da lista;\n",
        "3-Remova um elemento pelo seu índice.\n",
        "'''"
      ],
      "metadata": {
        "colab": {
          "base_uri": "https://localhost:8080/",
          "height": 35
        },
        "id": "OFxmRZQGWJyc",
        "outputId": "de6ba1c1-9e72-4092-8ed3-9392014d1513"
      },
      "execution_count": 1,
      "outputs": [
        {
          "output_type": "execute_result",
          "data": {
            "text/plain": [
              "'\\nComo sugestão de prática, indicamos você a criar um novo script python seguindo as orientações a seguir:\\n\\nCrie uma lista de móveis de uma casa;\\nAdicione um elemento no final da lista;\\nRemova um elemento pelo seu índice.\\n'"
            ],
            "application/vnd.google.colaboratory.intrinsic+json": {
              "type": "string"
            }
          },
          "metadata": {},
          "execution_count": 1
        }
      ]
    },
    {
      "cell_type": "code",
      "source": [
        "lista = ['sofá', 'mesa', 'televisão']\n",
        "print(lista)\n",
        "lista.append('geladeira')\n",
        "print(lista)\n",
        "#lista.remove('sofá')errado o certo seria pop\n",
        "lista.pop(0)\n",
        "print(lista)"
      ],
      "metadata": {
        "colab": {
          "base_uri": "https://localhost:8080/"
        },
        "id": "t-5SpgDJ89JS",
        "outputId": "bf75c324-721b-418a-e06f-cd10f2ee1146"
      },
      "execution_count": 6,
      "outputs": [
        {
          "output_type": "stream",
          "name": "stdout",
          "text": [
            "['sofá', 'mesa', 'televisão']\n",
            "['sofá', 'mesa', 'televisão', 'geladeira']\n",
            "['mesa', 'televisão', 'geladeira']\n"
          ]
        }
      ]
    },
    {
      "cell_type": "markdown",
      "source": [
        "# Aula 07 – Estrutura de Tuplas"
      ],
      "metadata": {
        "id": "mC9b1UuA_ngD"
      }
    },
    {
      "cell_type": "markdown",
      "source": [
        "**Introdução a tuplas**"
      ],
      "metadata": {
        "id": "FjNYMUC8AGng"
      }
    },
    {
      "cell_type": "code",
      "source": [
        "t = tuple(\"abc\")\n",
        "x = (\"python\",\"curso\" )\n",
        "x1 = (2,3,4)\n",
        "x2 = (2.1, 2,3, 2.5)\n",
        "x3 = (\"python\", 1,1.5, True)\n",
        "print(x3)\n",
        "print(type(x3))\n"
      ],
      "metadata": {
        "colab": {
          "base_uri": "https://localhost:8080/"
        },
        "id": "FcnxOlbzAIiJ",
        "outputId": "db16b5c2-12b2-41ba-b0c1-8f1abe6a8ade"
      },
      "execution_count": 8,
      "outputs": [
        {
          "output_type": "stream",
          "name": "stdout",
          "text": [
            "('python', 1, 1.5, True)\n",
            "<class 'tuple'>\n"
          ]
        }
      ]
    },
    {
      "cell_type": "markdown",
      "source": [
        "**Operações com tuplas**"
      ],
      "metadata": {
        "id": "Ak9Wr8vXB-O7"
      }
    },
    {
      "cell_type": "code",
      "source": [
        "elementos_tupla = ('São Paulo', 'Belo Horizonte', 'Terezina')\n",
        "print('Manaus' in elementos_tupla)\n",
        "print('São Paulo' in elementos_tupla)\n",
        "\n",
        "#                 0       1         2         3       4         5\n",
        "nomes_tuplas = ('José','Carlos', 'Maria', 'Pedro', 'Joana', 'Maria')\n",
        "print(nomes_tuplas.count('Maria'))\n",
        "print(nomes_tuplas.index('Carlos'))\n"
      ],
      "metadata": {
        "colab": {
          "base_uri": "https://localhost:8080/"
        },
        "id": "G050LKQyB_3L",
        "outputId": "0bb502fc-a2ee-4c43-d40a-01a602b56283"
      },
      "execution_count": 13,
      "outputs": [
        {
          "output_type": "stream",
          "name": "stdout",
          "text": [
            "False\n",
            "True\n",
            "2\n",
            "1\n"
          ]
        }
      ]
    }
  ]
}